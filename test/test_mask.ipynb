{
 "cells": [
  {
   "cell_type": "code",
   "execution_count": 46,
   "metadata": {},
   "outputs": [],
   "source": [
    "from __future__ import absolute_import\n",
    "from __future__ import division\n",
    "from __future__ import print_function\n",
    "\n",
    "import os \n",
    "import os.path as osp\n",
    "import numpy as np\n",
    "import sys\n",
    "\n",
    "sys.path.insert(0, '../tools')\n",
    "import _init_paths\n",
    "from pycocotools.coco import COCO\n",
    "from pycocotools import mask as COCOmask\n",
    "\n",
    "from scipy.misc import imread, imresize\n",
    "\n",
    "import matplotlib.pyplot as plt\n",
    "%matplotlib inline"
   ]
  },
  {
   "cell_type": "code",
   "execution_count": 3,
   "metadata": {},
   "outputs": [
    {
     "name": "stdout",
     "output_type": "stream",
     "text": [
      "loading annotations into memory...\n",
      "Done (t=0.65s)\n",
      "creating index...\n",
      "index created!\n"
     ]
    }
   ],
   "source": [
    "# load coco annotations\n",
    "IMAGE_DIR = '../data/coco/images/val2014/'\n",
    "annotation_file = '../data/coco/annotations/instances_minival2014.json'\n",
    "coco = COCO(annotation_file)"
   ]
  },
  {
   "cell_type": "code",
   "execution_count": 4,
   "metadata": {
    "collapsed": true
   },
   "outputs": [],
   "source": [
    "# let's check one ann\n",
    "ann_ids = coco.getAnnIds()"
   ]
  },
  {
   "cell_type": "markdown",
   "metadata": {},
   "source": [
    "## check one object"
   ]
  },
  {
   "cell_type": "code",
   "execution_count": 64,
   "metadata": {},
   "outputs": [
    {
     "name": "stdout",
     "output_type": "stream",
     "text": [
      "uint8 (480, 640)\n"
     ]
    },
    {
     "data": {
      "image/png": "[encoded data removed]",
      "text/plain": [
       "<matplotlib.figure.Figure at 0x7ff8bc348510>"
      ]
     },
     "metadata": {},
     "output_type": "display_data"
    }
   ],
   "source": [
    "ix = 16\n",
    "ann_id = ann_ids[ix]\n",
    "ann = coco.loadAnns([ann_id])[0]\n",
    "m = coco.annToMask(ann)\n",
    "plt.imshow(m)\n",
    "print(m.dtype, m.shape)"
   ]
  },
  {
   "cell_type": "code",
   "execution_count": 69,
   "metadata": {
    "scrolled": false
   },
   "outputs": [
    {
     "data": {
      "text/plain": [
       "(list, 2)"
      ]
     },
     "execution_count": 69,
     "metadata": {},
     "output_type": "execute_result"
    }
   ],
   "source": [
    "type(ann['segmentation']), len(ann['segmentation'])"
   ]
  },
  {
   "cell_type": "markdown",
   "metadata": {},
   "source": [
    "## check imresize"
   ]
  },
  {
   "cell_type": "code",
   "execution_count": 67,
   "metadata": {},
   "outputs": [
    {
     "name": "stdout",
     "output_type": "stream",
     "text": [
      "uint8 1 0 set([0, 1])\n",
      "(224, 224)\n"
     ]
    }
   ],
   "source": [
    "# imresize outputs uint8 [0, 1]\n",
    "m = imresize(mask, [224, 224])\n",
    "print(m.dtype, m.max(), m.min(), set(m.reshape(-1).tolist()))\n",
    "print(m.shape)"
   ]
  },
  {
   "cell_type": "markdown",
   "metadata": {},
   "source": [
    "## what if we use wrong im_height and im_width"
   ]
  },
  {
   "cell_type": "code",
   "execution_count": 71,
   "metadata": {},
   "outputs": [
    {
     "data": {
      "text/plain": [
       "<matplotlib.image.AxesImage at 0x7ff8bc023710>"
      ]
     },
     "execution_count": 71,
     "metadata": {},
     "output_type": "execute_result"
    },
    {
     "data": {
      "image/png": "[encoded data removed]",
      "text/plain": [
       "<matplotlib.figure.Figure at 0x7ff8bc790190>"
      ]
     },
     "metadata": {},
     "output_type": "display_data"
    }
   ],
   "source": [
    "img = coco.loadImgs(ann['image_id'])[0]\n",
    "h, w = img['height'], img['width']\n",
    "plt.figure()\n",
    "# original image size\n",
    "plt.subplot(121)\n",
    "rles = COCOmask.frPyObjects(ann['segmentation'], h, w)\n",
    "rle = COCOmask.merge(rles)\n",
    "m = COCOmask.decode(rle)\n",
    "plt.imshow(m)\n",
    "# double image size\n",
    "plt.subplot(122)\n",
    "rles = COCOmask.frPyObjects(ann['segmentation'], h*1.5, w*1.5)\n",
    "rle = COCOmask.merge(rles)\n",
    "m = COCOmask.decode(rle)\n",
    "plt.imshow(m)"
   ]
  },
  {
   "cell_type": "code",
   "execution_count": null,
   "metadata": {
    "collapsed": true
   },
   "outputs": [],
   "source": []
  }
 ],
 "metadata": {
  "kernelspec": {
   "display_name": "Python 2",
   "language": "python",
   "name": "python2"
  },
  "language_info": {
   "codemirror_mode": {
    "name": "ipython",
    "version": 2
   },
   "file_extension": ".py",
   "mimetype": "text/x-python",
   "name": "python",
   "nbconvert_exporter": "python",
   "pygments_lexer": "ipython2",
   "version": "2.7.13"
  },
  "widgets": {
   "state": {},
   "version": "1.1.2"
  }
 },
 "nbformat": 4,
 "nbformat_minor": 2
}
