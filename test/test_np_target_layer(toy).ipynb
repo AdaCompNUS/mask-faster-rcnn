{
 "cells": [
  {
   "cell_type": "code",
   "execution_count": 8,
   "metadata": {
    "collapsed": false
   },
   "outputs": [],
   "source": [
    "import os\n",
    "import os.path as osp\n",
    "import numpy as np\n",
    "import matplotlib.pyplot as plt\n",
    "%matplotlib inline\n",
    "plt.rcParams['figure.figsize'] = (6.0, 4.0)\n",
    "import sys\n",
    "sys.path.insert(0, '../lib')\n",
    "from layer_utils.mask_target_layer import mask_target_layer\n",
    "from model.config import cfg\n",
    "cfg.TRAIN.BATCH_SIZE = 12\n",
    "cfg.TRAIN.BBOX_NORMALIZE_TARGETS_PRECOMPUTED = True\n",
    "\n",
    "# torch\n",
    "import torch\n",
    "from torch.autograd import Variable"
   ]
  },
  {
   "cell_type": "code",
   "execution_count": 12,
   "metadata": {
    "collapsed": true
   },
   "outputs": [],
   "source": [
    "# fake inputs\n",
    "rpn_rois = \\\n",
    "[[0,1,1,4,4],\n",
    " [0,2,2,3,3],\n",
    " [0,4,4,5,5],\n",
    " [0,5,5,6,6]\n",
    "]\n",
    "gt_boxes = \\\n",
    "[[1,1,4,4,1],\n",
    " [2,2,3,3,1],\n",
    " [4,4,5,5,1]]\n",
    "rpn_rois = np.array(rpn_rois).astype(np.float32)\n",
    "gt_boxes = np.array(gt_boxes).astype(np.float32)\n",
    "gt_labels = np.random.randn(3, 8).astype(np.int32)\n",
    "neg_labels = np.random.randn(3, 80, 8).astype(np.int32)\n",
    "bg_labels = np.random.randn(81, 8).astype(np.int32)\n",
    "gt_masks = (np.random.randn(3, 256, 256)>0).astype(np.uint8)"
   ]
  },
  {
   "cell_type": "code",
   "execution_count": 13,
   "metadata": {
    "collapsed": false
   },
   "outputs": [],
   "source": [
    "rpn_rois = Variable(torch.from_numpy(rpn_rois).cuda())\n",
    "gt_boxes = Variable(torch.from_numpy(gt_boxes).cuda())\n",
    "gt_labels = Variable(torch.from_numpy(gt_labels).cuda())\n",
    "neg_labels = Variable(torch.from_numpy(neg_labels).cuda())\n",
    "bg_labels = Variable(torch.from_numpy(bg_labels).cuda())"
   ]
  },
  {
   "cell_type": "code",
   "execution_count": 14,
   "metadata": {
    "collapsed": false
   },
   "outputs": [],
   "source": [
    "# run mask_target_layer\n",
    "rois, labels, bbox_targets, bbox_inside_weights, bbox_outside_weights, mask_targets = \\\n",
    "mask_target_layer(rpn_rois, gt_boxes, gt_labels, neg_labels, bg_labels, gt_masks)"
   ]
  },
  {
   "cell_type": "code",
   "execution_count": 18,
   "metadata": {
    "collapsed": false
   },
   "outputs": [
    {
     "name": "stdout",
     "output_type": "stream",
     "text": [
      "('torch.cuda.FloatTensor', 'torch.cuda.IntTensor', 'torch.cuda.FloatTensor', 'torch.cuda.FloatTensor', 'torch.cuda.FloatTensor')\n"
     ]
    }
   ],
   "source": [
    "# check type\n",
    "print(rois.data.type(), labels.data.type(), bbox_targets.data.type(),\n",
    "      bbox_inside_weights.data.type(), mask_targets.data.type())"
   ]
  },
  {
   "cell_type": "code",
   "execution_count": 20,
   "metadata": {
    "collapsed": false
   },
   "outputs": [
    {
     "name": "stdout",
     "output_type": "stream",
     "text": [
      "Variable containing:\n",
      "    0     2     2     3     3\n",
      "    0     1     1     4     4\n",
      "    0     4     4     5     5\n",
      "    0     5     5     6     6\n",
      "    0     5     5     6     6\n",
      "    0     5     5     6     6\n",
      "    0     5     5     6     6\n",
      "    0     5     5     6     6\n",
      "    0     5     5     6     6\n",
      "    0     5     5     6     6\n",
      "    0     5     5     6     6\n",
      "    0     5     5     6     6\n",
      "[torch.cuda.FloatTensor of size 12x5 (GPU 0)]\n",
      "\n"
     ]
    }
   ],
   "source": [
    "print(rois)"
   ]
  },
  {
   "cell_type": "code",
   "execution_count": 21,
   "metadata": {
    "collapsed": false
   },
   "outputs": [
    {
     "data": {
      "text/plain": [
       "Variable containing:\n",
       "    1     1     1     1\n",
       "    1     1     1     1\n",
       "    1     1     1     1\n",
       "    0     0     0     0\n",
       "    0     0     0     0\n",
       "    0     0     0     0\n",
       "    0     0     0     0\n",
       "    0     0     0     0\n",
       "    0     0     0     0\n",
       "    0     0     0     0\n",
       "    0     0     0     0\n",
       "    0     0     0     0\n",
       "[torch.cuda.FloatTensor of size 12x4 (GPU 0)]"
      ]
     },
     "execution_count": 21,
     "metadata": {},
     "output_type": "execute_result"
    }
   ],
   "source": [
    "bbox_outside_weights"
   ]
  },
  {
   "cell_type": "code",
   "execution_count": null,
   "metadata": {
    "collapsed": true
   },
   "outputs": [],
   "source": []
  }
 ],
 "metadata": {
  "kernelspec": {
   "display_name": "Python 2",
   "language": "python",
   "name": "python2"
  },
  "language_info": {
   "codemirror_mode": {
    "name": "ipython",
    "version": 2
   },
   "file_extension": ".py",
   "mimetype": "text/x-python",
   "name": "python",
   "nbconvert_exporter": "python",
   "pygments_lexer": "ipython2",
   "version": "2.7.13"
  }
 },
 "nbformat": 4,
 "nbformat_minor": 2
}
